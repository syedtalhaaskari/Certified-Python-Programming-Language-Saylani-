{
 "cells": [
  {
   "cell_type": "code",
   "execution_count": 51,
   "metadata": {},
   "outputs": [
    {
     "name": "stdout",
     "output_type": "stream",
     "text": [
      "Enter Number: 5\n",
      "\n",
      "The factorial of 5 is 120\n"
     ]
    }
   ],
   "source": [
    "\"\"\"\n",
    "Question:1\n",
    "Write a Python function to calculate the factorial of a number (a non-negative\n",
    "integer). The function accepts the number as an argument.\n",
    "\"\"\"\n",
    "def fact(num):\n",
    "    if num == 1:\n",
    "        return num\n",
    "    else:\n",
    "        return num * fact(num - 1)\n",
    "\n",
    "def check(num):\n",
    "    if num == 0:\n",
    "        print(\"\\nThe factorial of 0 is 1.\")\n",
    "    elif num < 0:\n",
    "        print(\"\\nSorry, the factorial of negative numbers does not exist.\")\n",
    "    else:\n",
    "        print(\"\\nThe factorial of\", num, \"is\", fact(num))\n",
    "\n",
    "num = int(input(\"Enter Number: \"))\n",
    "\n",
    "check(num)"
   ]
  },
  {
   "cell_type": "code",
   "execution_count": 52,
   "metadata": {},
   "outputs": [
    {
     "name": "stdout",
     "output_type": "stream",
     "text": [
      "Enter Your Message: My name is Syed Talha Askari, and I'm 22 Years Old.\n",
      "\n",
      "Your Msg: My name is Syed Talha Askari, and I'm 22 Years Old.\n",
      "Number of Upper Case Letters are: 7\n",
      "Number of Lower Case Letters are: 29\n",
      "Number of Numeric Digits are: 2\n"
     ]
    }
   ],
   "source": [
    "\"\"\"\n",
    "Question:2\n",
    "Write a Python function that accepts a string and calculate the number of upper\n",
    "case letters and lower case letters.\n",
    "\"\"\"\n",
    "def check_string(msg):\n",
    "    check = {\n",
    "        \"Upper_Case\" : 0,\n",
    "        \"Lower_Case\" : 0,\n",
    "        \"Number\" : 0\n",
    "    }\n",
    "    \n",
    "    for c in msg:\n",
    "        if c.isupper():\n",
    "            check[\"Upper_Case\"] += 1\n",
    "        elif c.islower():\n",
    "            check[\"Lower_Case\"] += 1\n",
    "        elif c.isnumeric():\n",
    "            check[\"Number\"] += 1\n",
    "        else:\n",
    "            pass\n",
    "        \n",
    "    print(\"\\nYour Msg:\", msg)\n",
    "    print(\"Number of Upper Case Letters are:\", check[\"Upper_Case\"])\n",
    "    print(\"Number of Lower Case Letters are:\", check[\"Lower_Case\"])\n",
    "    print(\"Number of Numeric Digits are:\", check[\"Number\"])\n",
    "    \n",
    "msg = input(\"Enter Your Message: \")\n",
    "\n",
    "check_string(msg) "
   ]
  },
  {
   "cell_type": "code",
   "execution_count": 17,
   "metadata": {},
   "outputs": [
    {
     "name": "stdout",
     "output_type": "stream",
     "text": [
      "Enter total number of elements you want in list: 5\n",
      "Please Enter Value Of Element # 1: 123\n",
      "Please Enter Value Of Element # 2: 534\n",
      "Please Enter Value Of Element # 3: 214\n",
      "Please Enter Value Of Element # 4: 75\n",
      "Please Enter Value Of Element # 5: 23\n",
      "\n",
      "Even numbers in the given list are: [534, 214]\n",
      "\n",
      "Odd numbers in the given list are: [123, 75, 23]\n"
     ]
    }
   ],
   "source": [
    "\"\"\"\n",
    "Question:3\n",
    "Write a Python function to print the even numbers from a given list.\n",
    "\"\"\"\n",
    "def num_check(data):\n",
    "    \n",
    "    even_num = []\n",
    "    odd_num = []\n",
    "    \n",
    "    for n in data:\n",
    "        if n % 2 == 0:\n",
    "            even_num.append(n)\n",
    "        else:\n",
    "            odd_num.append(n)\n",
    "    \n",
    "    print(\"\\nEven numbers in the given list are:\", even_num)\n",
    "    print(\"\\nOdd numbers in the given list are:\", odd_num)\n",
    "    \n",
    "no_of_elements = int(input(\"Enter total number of elements you want in list: \"))\n",
    "\n",
    "number_list = []\n",
    "\n",
    "for i in range(no_of_elements):\n",
    "    num = int(input(\"Please Enter Value Of Element # %d: \" %(i+1)))\n",
    "    number_list.append(num)\n",
    "\n",
    "num_check(number_list)"
   ]
  },
  {
   "cell_type": "code",
   "execution_count": 23,
   "metadata": {},
   "outputs": [
    {
     "name": "stdout",
     "output_type": "stream",
     "text": [
      "MadAm is a Palindrome\n",
      "\n",
      "palindrome is not a Palindrome\n",
      "\n"
     ]
    }
   ],
   "source": [
    "\"\"\"\n",
    "Question:4\n",
    "Write a Python function that checks whether a passed string is palindrome or not.\n",
    "Note: A palindrome is a word, phrase, or sequence that reads the same\n",
    "backward as forward, e.g., madam\n",
    "\"\"\"\n",
    "def isPalindrome(msg):\n",
    "    msg2 = msg.lower()\n",
    "    rev = msg2[::-1]\n",
    "    \n",
    "    if msg2 == rev:\n",
    "        print(msg, \"is a Palindrome\\n\")\n",
    "    else:\n",
    "        print(msg, \"is not a Palindrome\\n\")\n",
    "        \n",
    "strg = \"MadAm\"\n",
    "isPalindrome(strg)\n",
    "\n",
    "strg = \"palindrome\"\n",
    "isPalindrome(strg)"
   ]
  },
  {
   "cell_type": "code",
   "execution_count": 39,
   "metadata": {},
   "outputs": [
    {
     "name": "stdout",
     "output_type": "stream",
     "text": [
      "7 is a Prime Number\n"
     ]
    }
   ],
   "source": [
    "\"\"\"\n",
    "Question:5\n",
    "Write a Python function that takes a number as a parameter and check the\n",
    "number is prime or not.\n",
    "\"\"\"\n",
    "def isPrime(num):\n",
    "    if num == 1 or num == 2:\n",
    "        return print(num, \"is a Prime Number\")\n",
    "    elif num == 2 or num < 0:\n",
    "        return print(num, \"is not a Prime Number\")\n",
    "    else:\n",
    "        for i in range(2, num//2):\n",
    "            if num % i == 0:\n",
    "                return print(num, \"is not a Prime Number\")\n",
    "        return print(num, \"is a Prime Number\")\n",
    "    \n",
    "isPrime(7)"
   ]
  },
  {
   "cell_type": "code",
   "execution_count": 50,
   "metadata": {},
   "outputs": [
    {
     "name": "stdout",
     "output_type": "stream",
     "text": [
      "Shopping List:\n",
      "1. Banana\n",
      "2. Mango\n",
      "3. Potato\n",
      "4. Tomato\n"
     ]
    }
   ],
   "source": [
    "\"\"\"\n",
    "Question: 6\n",
    "Suppose a customer is shopping in a market and you need to print all the items\n",
    "which user bought from market.\n",
    "Write a function which accepts the multiple arguments of user shopping list and\n",
    "print all the items which user bought from market.\n",
    "(Hint: Arbitrary Argument concept can make this task ease)\n",
    "\"\"\"\n",
    "def shopping_list(*items):\n",
    "    i = 1\n",
    "    \n",
    "    print(\"Shopping List:\")\n",
    "    \n",
    "    for item in items:\n",
    "        print(str(i) + \".\", item.title())\n",
    "        i += 1\n",
    "\n",
    "shopping_list(\"banana\", \"mango\", \"potato\", \"tomato\")"
   ]
  },
  {
   "cell_type": "code",
   "execution_count": null,
   "metadata": {},
   "outputs": [],
   "source": []
  }
 ],
 "metadata": {
  "kernelspec": {
   "display_name": "Python 3",
   "language": "python",
   "name": "python3"
  },
  "language_info": {
   "codemirror_mode": {
    "name": "ipython",
    "version": 3
   },
   "file_extension": ".py",
   "mimetype": "text/x-python",
   "name": "python",
   "nbconvert_exporter": "python",
   "pygments_lexer": "ipython3",
   "version": "3.7.4"
  }
 },
 "nbformat": 4,
 "nbformat_minor": 2
}
