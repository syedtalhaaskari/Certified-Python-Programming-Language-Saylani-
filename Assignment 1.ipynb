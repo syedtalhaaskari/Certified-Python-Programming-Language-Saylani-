{
 "cells": [
  {
   "cell_type": "code",
   "execution_count": 4,
   "metadata": {
    "scrolled": true
   },
   "outputs": [
    {
     "name": "stdout",
     "output_type": "stream",
     "text": [
      "Twinkle, twinkle, little star,\n",
      "\tHow I wonder what you are!\n",
      "\t\tUp above the world so high,\n",
      "\t\tLike a diamond in the sky.\n",
      "Twinkle, twinkle, little star,\n",
      "\tHow I wonder what you are\n"
     ]
    }
   ],
   "source": [
    "\"\"\"\n",
    "Q.1) Write a Python program to print the following string in a specific format\n",
    "(see the output).\n",
    "Twinkle, twinkle, little star,\n",
    "How I wonder what you are!\n",
    "Up above the world so high,\n",
    "Like a diamond in the sky.\n",
    "Twinkle, twinkle, little star,\n",
    "How I wonder what you are\n",
    "\"\"\"\n",
    "print(\"Twinkle, twinkle, little star,\")\n",
    "print(\"\\tHow I wonder what you are!\")\n",
    "print(\"\\t\\tUp above the world so high,\")\n",
    "print(\"\\t\\tLike a diamond in the sky.\")\n",
    "print(\"Twinkle, twinkle, little star,\")\n",
    "print(\"\\tHow I wonder what you are\")"
   ]
  },
  {
   "cell_type": "code",
   "execution_count": 3,
   "metadata": {},
   "outputs": [
    {
     "name": "stdout",
     "output_type": "stream",
     "text": [
      "3.7.4 (default, Aug  9 2019, 18:34:13) [MSC v.1915 64 bit (AMD64)]\n"
     ]
    }
   ],
   "source": [
    "\"\"\"\n",
    "Q.2) Write a Python program to get the Python version you are using\n",
    "\"\"\"\n",
    "import sys\n",
    "print(sys.version)"
   ]
  },
  {
   "cell_type": "code",
   "execution_count": 10,
   "metadata": {},
   "outputs": [
    {
     "name": "stdout",
     "output_type": "stream",
     "text": [
      "Current Date & Time: \n",
      "25-11-2019 15:39:04\n"
     ]
    }
   ],
   "source": [
    "\"\"\"\n",
    "Q.3) Write a Python program to display the current date and time.\n",
    "\"\"\"\n",
    "from datetime import datetime\n",
    "now = datetime.now()\n",
    "print(\"Current Date & Time: \")\n",
    "print(now.strftime(\"%d-%m-%Y %H:%M:%S\"))"
   ]
  },
  {
   "cell_type": "code",
   "execution_count": 6,
   "metadata": {},
   "outputs": [
    {
     "name": "stdout",
     "output_type": "stream",
     "text": [
      "Enter Radius of Circle: 3\n",
      "Area of Circle is 36\n"
     ]
    }
   ],
   "source": [
    "\"\"\"\n",
    "Q.4) Write a Python program which accepts the radius of a circle from the user\n",
    "and compute the area.\n",
    "\"\"\"\n",
    "radius = int(input(\"Enter Radius of Circle: \"))\n",
    "area = 4 * radius ** 2\n",
    "print(\"Area of Circle is \" + str(area))"
   ]
  },
  {
   "cell_type": "code",
   "execution_count": 2,
   "metadata": {},
   "outputs": [
    {
     "name": "stdout",
     "output_type": "stream",
     "text": [
      "Enter Your First Name: Syed Talha\n",
      "Enter Your Last Name: Askari\n",
      "Askari Syed Talha\n"
     ]
    }
   ],
   "source": [
    "\"\"\"\n",
    "Q.5) Write a Python program which accepts the user's first and last name and\n",
    "print them in reverse order with a space between them.\n",
    "\"\"\"\n",
    "first_name = input(\"Enter Your First Name: \")\n",
    "last_name = input(\"Enter Your Last Name: \")\n",
    "reverse_full_name = last_name + \" \" + first_name\n",
    "print(reverse_full_name)"
   ]
  },
  {
   "cell_type": "code",
   "execution_count": 1,
   "metadata": {},
   "outputs": [
    {
     "name": "stdout",
     "output_type": "stream",
     "text": [
      "Enter First Value: 3\n",
      "Enter Second Value: 2\n",
      "3 + 2 = 5\n"
     ]
    }
   ],
   "source": [
    "\"\"\"\n",
    "Q.6) Write a python program which takes two inputs from user and print them\n",
    "addition\n",
    "\"\"\"\n",
    "inp1 = int(input(\"Enter First Value: \"))\n",
    "inp2 = int(input(\"Enter Second Value: \"))\n",
    "answer = inp1 + inp2\n",
    "print(str(inp1) + \" + \" + str(inp2) + \" = \" + str(answer))"
   ]
  },
  {
   "cell_type": "code",
   "execution_count": null,
   "metadata": {},
   "outputs": [],
   "source": []
  }
 ],
 "metadata": {
  "kernelspec": {
   "display_name": "Python 3",
   "language": "python",
   "name": "python3"
  },
  "language_info": {
   "codemirror_mode": {
    "name": "ipython",
    "version": 3
   },
   "file_extension": ".py",
   "mimetype": "text/x-python",
   "name": "python",
   "nbconvert_exporter": "python",
   "pygments_lexer": "ipython3",
   "version": "3.7.4"
  }
 },
 "nbformat": 4,
 "nbformat_minor": 2
}
