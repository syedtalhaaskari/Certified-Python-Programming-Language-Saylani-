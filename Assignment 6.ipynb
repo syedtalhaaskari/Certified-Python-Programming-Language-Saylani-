{
 "cells": [
  {
   "cell_type": "code",
   "execution_count": 1,
   "metadata": {},
   "outputs": [
    {
     "data": {
      "text/plain": [
       "'\\nAnswer\\n'"
      ]
     },
     "execution_count": 1,
     "metadata": {},
     "output_type": "execute_result"
    }
   ],
   "source": [
    "\"\"\"\n",
    "Question 1:\n",
    "Define Object Oriented Programming Language?\n",
    "\"\"\"\n",
    "\n",
    "\"\"\"\n",
    "Answer\n",
    "Object Oriented Programming is an approach in which real world entities are seen as an object and that object can only be\n",
    "modified by its builtin methods.\n",
    "\"\"\""
   ]
  },
  {
   "cell_type": "code",
   "execution_count": 2,
   "metadata": {},
   "outputs": [
    {
     "data": {
      "text/plain": [
       "'\\nAnswer\\n'"
      ]
     },
     "execution_count": 2,
     "metadata": {},
     "output_type": "execute_result"
    }
   ],
   "source": [
    "\"\"\"\n",
    "Question 2:\n",
    "List down the Benefits of OOP?\n",
    "\"\"\"\n",
    "\n",
    "\"\"\"\n",
    "Answer\n",
    "OOP makes coding more easy and more efficient\n",
    "OOP makes code reusable\n",
    "OOP makes data safe\n",
    "OOP increases productivity\n",
    "\"\"\""
   ]
  },
  {
   "cell_type": "code",
   "execution_count": 3,
   "metadata": {},
   "outputs": [
    {
     "data": {
      "text/plain": [
       "'\\nAnswer\\n'"
      ]
     },
     "execution_count": 3,
     "metadata": {},
     "output_type": "execute_result"
    }
   ],
   "source": [
    "\"\"\"\n",
    "Question 3:\n",
    "Differentiate between function and method?\n",
    "\"\"\"\n",
    "\n",
    "\"\"\"\n",
    "Answer\n",
    "Functions and methods are same but the only difference is functions defined in a class are called methods.\n",
    "\"\"\""
   ]
  },
  {
   "cell_type": "code",
   "execution_count": 4,
   "metadata": {},
   "outputs": [
    {
     "data": {
      "text/plain": [
       "'\\nAnswer\\n'"
      ]
     },
     "execution_count": 4,
     "metadata": {},
     "output_type": "execute_result"
    }
   ],
   "source": [
    "\"\"\"\n",
    "Question 4:\n",
    "Define the following terms:\n",
    "1. Class\n",
    "2. Object\n",
    "3. Attribute\n",
    "4. Behavior\n",
    "\"\"\"\n",
    "\n",
    "\"\"\"\n",
    "Answer\n",
    "Class: Class is a blueprint of what an object can do or what are the capabilities of an object.\n",
    "\n",
    "Object: Object is simply a collection of data (variables) and methods (functions) that act on those data.\n",
    "\n",
    "Attributes: Attributes are simply the components or data or properties of an object.\n",
    "            For example, There is a black dog and his weight is 40 kg.\n",
    "            In the above example black and 40 are the attributes of dog.\n",
    "\n",
    "Behavior: Behavior are the actions of an object. For example, Dog is sitting, in this example sitting is behavior.\n",
    "\"\"\""
   ]
  },
  {
   "cell_type": "code",
   "execution_count": 12,
   "metadata": {},
   "outputs": [
    {
     "name": "stdout",
     "output_type": "stream",
     "text": [
      "Car Info:-\n",
      "Name:\t Bugatti Chiron\n",
      "Model:\t 2019\n",
      "Color:\t Black\n",
      "Mileage: 5.95 kmpl\n",
      "Price:\t 2.99 Million Dollars\n",
      "Bugatti Chiron is going to accelerate\n",
      "Bugatti Chiron is applying brakes\n",
      "\n",
      "\n",
      "Car Info:-\n",
      "Name:\t Lamborghini Huracan\n",
      "Model:\t 2019\n",
      "Color:\t Orange\n",
      "Mileage: 16.0 kmpl\n",
      "Price:\t 3.6 Million Dollars\n",
      "Lamborghini Huracan is going to accelerate\n",
      "Lamborghini Huracan is applying brakes\n",
      "\n",
      "\n",
      "Car Info:-\n",
      "Name:\t Koenigsegg Agera\n",
      "Model:\t 2014\n",
      "Color:\t Blue\n",
      "Mileage: 8.0 kmpl\n",
      "Price:\t 2.1 Million Dollars\n",
      "Koenigsegg Agera is going to accelerate\n",
      "Koenigsegg Agera is applying brakes\n",
      "\n",
      "\n",
      "Car Info:-\n",
      "Name:\t Ferrari\n",
      "Model:\t 2018\n",
      "Color:\t Red\n",
      "Mileage: 12.0 kmpl\n",
      "Price:\t 2.2 Million Dollars\n",
      "Ferrari is going to accelerate\n",
      "Ferrari is applying brakes\n",
      "\n",
      "\n",
      "Car Info:-\n",
      "Name:\t Pagani Zonda R\n",
      "Model:\t 2014\n",
      "Color:\t White\n",
      "Mileage: 28.25 kmpl\n",
      "Price:\t 2.8 Million Dollars\n",
      "Pagani Zonda R is going to accelerate\n",
      "Pagani Zonda R is applying brakes\n"
     ]
    }
   ],
   "source": [
    "\"\"\"\n",
    "Question 5:\n",
    "Write a code in python in which create a class named it Car which\n",
    "have 5 attributes such like (model, color and name etc.) and 3\n",
    "methods. And create 5 object instance from that class.\n",
    "\"\"\"\n",
    "class Car():\n",
    "    def __init__(self, model, color, name, mileage, price):\n",
    "        self.model = model\n",
    "        self.color = color\n",
    "        self.name = name\n",
    "        self.mileage = mileage\n",
    "        self.price = price\n",
    "        \n",
    "    def description(self):\n",
    "        print(\"Car Info:-\")\n",
    "        print(\"Name:\\t\", self.name)\n",
    "        print(\"Model:\\t\", self.model)\n",
    "        print(\"Color:\\t\", self.color)\n",
    "        print(\"Mileage:\", self.mileage, \"kmpl\")\n",
    "        print(\"Price:\\t\", self.price, \"Million Dollars\")\n",
    "        \n",
    "    def accelerate(self):\n",
    "        print(self.name, \"is going to accelerate\")\n",
    "        \n",
    "    def brake(self):\n",
    "        print(self.name, \"is applying brakes\")\n",
    "        \n",
    "car1 = Car(2019, \"Black\", \"Bugatti Chiron\", 5.95, 2.99)\n",
    "car2 = Car(2019, \"Orange\", \"Lamborghini Huracan\", 16.0, 3.6)\n",
    "car3 = Car(2014, \"Blue\", \"Koenigsegg Agera\", 8.0, 2.1)\n",
    "car4 = Car(2018, \"Red\", \"Ferrari\", 12.0, 2.2)\n",
    "car5 = Car(2014, \"White\", \"Pagani Zonda R\", 28.25, 2.8)\n",
    "\n",
    "car1.description()\n",
    "car1.accelerate()\n",
    "car1.brake()\n",
    "\n",
    "print(\"\\n\")\n",
    "\n",
    "car2.description()\n",
    "car2.accelerate()\n",
    "car2.brake()\n",
    "\n",
    "print(\"\\n\")\n",
    "\n",
    "car3.description()\n",
    "car3.accelerate()\n",
    "car3.brake()\n",
    "\n",
    "print(\"\\n\")\n",
    "\n",
    "car4.description()\n",
    "car4.accelerate()\n",
    "car4.brake()\n",
    "\n",
    "print(\"\\n\")\n",
    "\n",
    "car5.description()\n",
    "car5.accelerate()\n",
    "car5.brake()"
   ]
  },
  {
   "cell_type": "code",
   "execution_count": null,
   "metadata": {},
   "outputs": [],
   "source": [
    "\n"
   ]
  }
 ],
 "metadata": {
  "kernelspec": {
   "display_name": "Python 3",
   "language": "python",
   "name": "python3"
  },
  "language_info": {
   "codemirror_mode": {
    "name": "ipython",
    "version": 3
   },
   "file_extension": ".py",
   "mimetype": "text/x-python",
   "name": "python",
   "nbconvert_exporter": "python",
   "pygments_lexer": "ipython3",
   "version": "3.7.4"
  }
 },
 "nbformat": 4,
 "nbformat_minor": 2
}
