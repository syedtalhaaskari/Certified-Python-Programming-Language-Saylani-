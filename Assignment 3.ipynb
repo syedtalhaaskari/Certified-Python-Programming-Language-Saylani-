{
 "cells": [
  {
   "cell_type": "code",
   "execution_count": 1,
   "metadata": {},
   "outputs": [
    {
     "name": "stdout",
     "output_type": "stream",
     "text": [
      "Enter First Number: 5\n",
      "Enter Second Number: 3\n",
      "1. Addition.\n",
      "2. Subtraction.\n",
      "3. Multiplication.\n",
      "4. Division.\n",
      "5. Power\n",
      "Enter Your Choice: 5\n",
      "5 ^ 3 = 125 Answer\n"
     ]
    }
   ],
   "source": [
    "\"\"\"\n",
    "Q.1) Make a calculator using Python with addition , subtraction , multiplication ,\n",
    "division and power.\n",
    "\"\"\"\n",
    "val1 = int(input(\"Enter First Number: \"))\n",
    "val2 = int(input(\"Enter Second Number: \"))\n",
    "\n",
    "print(\"1. Addition.\")\n",
    "print(\"2. Subtraction.\")\n",
    "print(\"3. Multiplication.\")\n",
    "print(\"4. Division.\")\n",
    "print(\"5. Power\")\n",
    "\n",
    "op = int(input(\"Enter Your Choice: \"))\n",
    "\n",
    "if op == 1:\n",
    "    val = val1 + val2\n",
    "    print(str(val1) + \" + \" + str(val2) + \" = \" + str(val), \"Answer\") \n",
    "elif op == 2:\n",
    "    val = val1 - val2\n",
    "    print(str(val1) + \" - \" + str(val2) + \" = \" + str(val), \"Answer\")\n",
    "elif op == 3:\n",
    "    val = val1 * val2\n",
    "    print(str(val1) + \" * \" + str(val2) + \" = \" + str(val), \"Answer\")\n",
    "elif op == 4:\n",
    "    val = val1 / val2\n",
    "    print(str(val1) + \" / \" + str(val2) + \" = \" + str(val), \"Answer\")\n",
    "elif op == 5:\n",
    "    val = val1 ** val2\n",
    "    print(str(val1) + \" ^ \" + str(val2) + \" = \" + str(val), \"Answer\")\n",
    "else:\n",
    "    print(\"Invalid Choice\")"
   ]
  },
  {
   "cell_type": "code",
   "execution_count": 19,
   "metadata": {},
   "outputs": [
    {
     "name": "stdout",
     "output_type": "stream",
     "text": [
      "Element 8 Doesn't Exist\n",
      "Element 8 Doesn't Exist\n",
      "Element 8 Exist\n"
     ]
    }
   ],
   "source": [
    "\"\"\"\n",
    "Q.2) Write a program to check if there is any numeric value in list using for loop\n",
    "\"\"\"\n",
    "test_list = [5, 7, 8, 66, 4]\n",
    "\n",
    "value = 8\n",
    "\n",
    "for i in test_list: \n",
    "    if(i == value):\n",
    "        print(\"Element \" + str(value) + \" Exist\") \n",
    "        break\n",
    "    else:\n",
    "        print(\"Element \" + str(value) + \" Doesn't Exist\")"
   ]
  },
  {
   "cell_type": "code",
   "execution_count": 21,
   "metadata": {},
   "outputs": [
    {
     "name": "stdout",
     "output_type": "stream",
     "text": [
      "{0: 10, 1: 20}\n",
      "{0: 10, 1: 20, 2: 30}\n"
     ]
    }
   ],
   "source": [
    "\"\"\"\n",
    "Q.3) Write a Python script to add a key to a dictionary\n",
    "\"\"\"\n",
    "n = {0 : 10, 1 : 20}\n",
    "print(n)\n",
    "\n",
    "n.update({2 : 30})\n",
    "print(n)"
   ]
  },
  {
   "cell_type": "code",
   "execution_count": 22,
   "metadata": {},
   "outputs": [
    {
     "name": "stdout",
     "output_type": "stream",
     "text": [
      "401\n"
     ]
    }
   ],
   "source": [
    "\"\"\"\n",
    "Q.4) Write a Python program to sum all the numeric items in a dictionary\n",
    "\"\"\"\n",
    "dict = {\"data1\" : 100, \"data2\" : 54, \"data3\" : 247}\n",
    "\n",
    "print(sum(dict.values()))"
   ]
  },
  {
   "cell_type": "code",
   "execution_count": 20,
   "metadata": {},
   "outputs": [
    {
     "name": "stdout",
     "output_type": "stream",
     "text": [
      "Duplicate Items in the given list are [20, 30, -20, 60]\n"
     ]
    }
   ],
   "source": [
    "\"\"\"\n",
    "Q.5) Write a program to identify duplicate values from list\n",
    "\"\"\"\n",
    "list1 = [10, 20, 30, 20, 20, 30, 40, 50, -20, 60, 60, -20, -20] \n",
    "\n",
    "size = len(list1)\n",
    "repeated = []\n",
    "for i in range(size):\n",
    "    k = i + 1\n",
    "    for j in range(k, size):\n",
    "        if (list1[i] == list1[j]) and (list1[i] not in repeated):\n",
    "            repeated.append(list1[i])\n",
    "\n",
    "print(\"Duplicate Items in the given list are\", repeated)"
   ]
  },
  {
   "cell_type": "code",
   "execution_count": 18,
   "metadata": {},
   "outputs": [
    {
     "name": "stdout",
     "output_type": "stream",
     "text": [
      "Key 5 is present in the dictionary\n"
     ]
    }
   ],
   "source": [
    "\"\"\"\n",
    "Q.6) Write a Python script to check if a given key already exists in a dictionary \n",
    "\"\"\"\n",
    "d = {1: 10, 2: 20, 3: 30, 4: 40, 5: 50, 6: 60}\n",
    "\n",
    "key = 5\n",
    "\n",
    "if key in d:\n",
    "    print(\"Key \" + str(key) + \" is present in the dictionary\")\n",
    "else:\n",
    "    print(\"Key \" + str(key) + \" is not present in the dictionary\")"
   ]
  },
  {
   "cell_type": "code",
   "execution_count": null,
   "metadata": {},
   "outputs": [],
   "source": []
  }
 ],
 "metadata": {
  "kernelspec": {
   "display_name": "Python 3",
   "language": "python",
   "name": "python3"
  },
  "language_info": {
   "codemirror_mode": {
    "name": "ipython",
    "version": 3
   },
   "file_extension": ".py",
   "mimetype": "text/x-python",
   "name": "python",
   "nbconvert_exporter": "python",
   "pygments_lexer": "ipython3",
   "version": "3.7.4"
  }
 },
 "nbformat": 4,
 "nbformat_minor": 2
}
