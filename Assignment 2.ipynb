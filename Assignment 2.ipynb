{
 "cells": [
  {
   "cell_type": "code",
   "execution_count": 4,
   "metadata": {},
   "outputs": [
    {
     "name": "stdout",
     "output_type": "stream",
     "text": [
      "Enter Math's Marks: 91\n",
      "Enter Physics's Marks: 92\n",
      "Enter Chemistry's Marks: 93\n",
      "Enter English's Marks: 94\n",
      "Enter Python's Marks: 100\n",
      "\n",
      "Math's Marks: 91\n",
      "Physics's Marks: 92\n",
      "Chemistry's Marks: 93\n",
      "English's Marks: 94\n",
      "Python's Marks: 100\n",
      "\n",
      "Total Marks: 470 out of 500\n",
      "\n",
      "Percentage: 94.0\n",
      "\n",
      "Your Grade is A+\n"
     ]
    }
   ],
   "source": [
    "\"\"\"\n",
    "Q.1) Write a program which takes 5 inputs from user for different subject’s\n",
    "marks, total it and generate mark sheet using grades ?\n",
    "\"\"\"\n",
    "\n",
    "subject1 = int(input(\"Enter Math's Marks: \"))\n",
    "subject2 = int(input(\"Enter Physics's Marks: \"))\n",
    "subject3 = int(input(\"Enter Chemistry's Marks: \"))\n",
    "subject4 = int(input(\"Enter English's Marks: \"))\n",
    "subject5 = int(input(\"Enter Python's Marks: \"))\n",
    "\n",
    "total = subject1 + subject2 + subject3 + subject4 + subject5\n",
    "percentage = total / 5\n",
    "full_marks = 500\n",
    "\n",
    "print(\"\\nMath's Marks: \" + str(subject1))\n",
    "print(\"Physics's Marks: \" + str(subject2))\n",
    "print(\"Chemistry's Marks: \" + str(subject3))\n",
    "print(\"English's Marks: \" + str(subject4))\n",
    "print(\"Python's Marks: \" + str(subject5))\n",
    "\n",
    "print(\"\\nTotal Marks: \" + str(total) + \" out of \" + str(full_marks))\n",
    "\n",
    "print(\"\\nPercentage: \" + str(percentage) + \"\\n\")\n",
    "\n",
    "if percentage >= 80 and percentage <= 100:\n",
    "    print(\"Your Grade is A+\")\n",
    "elif percentage >= 70 and percentage < 80:\n",
    "    print(\"Your Grade is A\")\n",
    "elif percentage >= 60 and percentage < 70:\n",
    "    print(\"Your Grade is B\")\n",
    "elif percentage >= 50 and percentage < 60:\n",
    "    print(\"Your Grade is C\")\n",
    "elif percentage >= 40 and percentage < 50:\n",
    "    print(\"Your Grade is D\")\n",
    "elif percentage >= 33 and percentage < 40 :\n",
    "    print(\"Your Grade is E\")\n",
    "elif percentage >= 0 and percentage < 33 :\n",
    "    print(\"Your Grade is F\")\n",
    "else:\n",
    "    print(\"Error\")"
   ]
  },
  {
   "cell_type": "code",
   "execution_count": 5,
   "metadata": {},
   "outputs": [
    {
     "name": "stdout",
     "output_type": "stream",
     "text": [
      "Enter Number: 23\n",
      "Odd Number\n"
     ]
    }
   ],
   "source": [
    "\"\"\"\n",
    "Q.2) Write a program which take input from user and identify that the given\n",
    "number is even or odd?\n",
    "\"\"\"\n",
    "num = int(input(\"Enter Number: \"))\n",
    "if num % 2 == 0:\n",
    "    print(\"Even Number\")\n",
    "else:\n",
    "    print(\"Odd Number\")"
   ]
  },
  {
   "cell_type": "code",
   "execution_count": 7,
   "metadata": {},
   "outputs": [
    {
     "name": "stdout",
     "output_type": "stream",
     "text": [
      "Length of Our List is 4\n"
     ]
    }
   ],
   "source": [
    "\"\"\"\n",
    "Q.3) Write a program which print the length of the list?\n",
    "\"\"\"\n",
    "our_list = [23, 645, 321, 343]\n",
    "length_of_our_list = len(our_list)\n",
    "print(\"Length of Our List is \" + str(length_of_our_list))"
   ]
  },
  {
   "cell_type": "code",
   "execution_count": 3,
   "metadata": {},
   "outputs": [
    {
     "name": "stdout",
     "output_type": "stream",
     "text": [
      "Sum of items in the given list is 70\n"
     ]
    }
   ],
   "source": [
    "\"\"\"\n",
    "Q.4) Write a Python program to sum all the numeric items in a list\n",
    "\"\"\"\n",
    "elements = [1, 4, 64, 1]\n",
    "print(\"Sum of items in the given list is \" + str(sum(elements)))"
   ]
  },
  {
   "cell_type": "code",
   "execution_count": 8,
   "metadata": {},
   "outputs": [
    {
     "name": "stdout",
     "output_type": "stream",
     "text": [
      "Largest number in the given list is 89\n"
     ]
    }
   ],
   "source": [
    "\"\"\"\n",
    "Q.5) Write a Python program to get the largest number from a numeric list.\n",
    "\"\"\"\n",
    "a = [1, 1, 2, 3, 5, 8, 89, 13, 21, 34, 55]\n",
    "largest_number = max(a)\n",
    "print(\"Largest number in the given list is \" + str(largest_number))"
   ]
  },
  {
   "cell_type": "code",
   "execution_count": 4,
   "metadata": {},
   "outputs": [
    {
     "name": "stdout",
     "output_type": "stream",
     "text": [
      "Elements less than 5 are [1, 1, 2, 3]\n"
     ]
    }
   ],
   "source": [
    "\"\"\"\n",
    "Q.6) Take a list, say for example this one:\n",
    "    a = [1, 1, 2, 3, 5, 8, 13, 21, 34, 55, 89]\n",
    "and write a program that prints out all the elements of the list that are less than 5.\n",
    "\"\"\"\n",
    "a = [1, 1, 2, 3, 5, 8, 13, 21, 34, 55, 89]\n",
    "num = 5;\n",
    "\n",
    "new_list = []\n",
    "\n",
    "for i in a:\n",
    "    if i < num:\n",
    "        new_list.append(i)\n",
    "\n",
    "print(\"Elements less than \" + str(num) + \" are\", new_list)"
   ]
  },
  {
   "cell_type": "code",
   "execution_count": null,
   "metadata": {},
   "outputs": [],
   "source": []
  }
 ],
 "metadata": {
  "kernelspec": {
   "display_name": "Python 3",
   "language": "python",
   "name": "python3"
  },
  "language_info": {
   "codemirror_mode": {
    "name": "ipython",
    "version": 3
   },
   "file_extension": ".py",
   "mimetype": "text/x-python",
   "name": "python",
   "nbconvert_exporter": "python",
   "pygments_lexer": "ipython3",
   "version": "3.7.4"
  }
 },
 "nbformat": 4,
 "nbformat_minor": 2
}
