{
 "cells": [
  {
   "cell_type": "code",
   "execution_count": 9,
   "metadata": {},
   "outputs": [
    {
     "name": "stdout",
     "output_type": "stream",
     "text": [
      "First Name: Syed Talha\n",
      "Last Name: Askari\n",
      "Age: 22\n",
      "City: Karachi\n",
      "\n",
      "{'first_name': 'Syed Talha', 'last_name': 'Askari', 'age': 22, 'city': 'Karachi', 'qualification': 'BS in Software Engineering'}\n",
      "\n",
      "Qualification: High Academic Level\n",
      "\n",
      "{'first_name': 'Syed Talha', 'last_name': 'Askari', 'age': 22, 'city': 'Karachi'}\n"
     ]
    }
   ],
   "source": [
    "\"\"\"\n",
    "Question1:\n",
    "Use a dictionary to store information about a person you know.\n",
    "Store their first name, last name, age, and the city in which they live.\n",
    "You should have keys such as first_name, last_name, age, and city.\n",
    "Print each piece of information stored in your dictionary.\n",
    "Add a new key value pair about qualification then update the qualification\n",
    "value to high academic level then delete it.\n",
    "\"\"\"\n",
    "person_information = {\n",
    "    \"first_name\" : \"Syed Talha\",\n",
    "    \"last_name\" : \"Askari\",\n",
    "    \"age\" : 22,\n",
    "    \"city\" : \"Karachi\"\n",
    "}\n",
    "\n",
    "print(\"First Name:\", person_information[\"first_name\"])\n",
    "print(\"Last Name:\", person_information[\"last_name\"])\n",
    "print(\"Age:\", person_information[\"age\"])\n",
    "print(\"City:\", person_information[\"city\"])\n",
    "\n",
    "person_information[\"qualification\"] = \"BS in Software Engineering\"\n",
    "\n",
    "print(\"\\n\" + str(person_information))\n",
    "\n",
    "person_information.update({\"qualification\" : \"High Academic Level\"})\n",
    "\n",
    "print(\"\\nQualification:\", person_information[\"qualification\"])\n",
    "\n",
    "del person_information[\"qualification\"]\n",
    "\n",
    "print(\"\\n\" + str(person_information))"
   ]
  },
  {
   "cell_type": "code",
   "execution_count": 16,
   "metadata": {},
   "outputs": [
    {
     "name": "stdout",
     "output_type": "stream",
     "text": [
      "Karachi:\n",
      " {'Country': 'Pakistan', 'Population': '14.91 Million', 'Fact': 'It is the Sixth largest city in the world by city population.'}\n",
      "\n",
      "New York:\n",
      " {'Country': 'United States of America', 'Population': '8.623 Million', 'Fact': 'There is a birth in NYC every 4.4 minutes.'}\n",
      "\n",
      "Sydney:\n",
      " {'Country': 'Australia', 'Population': '5.23 Million', 'Fact': 'Opera Australia is the 3rd busiest opera company in the world.'}\n"
     ]
    }
   ],
   "source": [
    "\"\"\"\n",
    "Question2:\n",
    "Make a dictionary called cities. Use the names of three cities as keys in your dictionary.\n",
    "Create a dictionary of information about each city and include the country that the city is in,\n",
    "its approximate population, and one fact about that city.\n",
    "The keys for each city’s dictionary should be something like country, population, and fact.\n",
    "Print the name of each city and all of the information you have stored about it.\n",
    "\"\"\"\n",
    "cities = {\n",
    "    \"Karachi\" : {\n",
    "        \"Country\" : \"Pakistan\",\n",
    "        \"Population\" : \"14.91 Million\",\n",
    "        \"Fact\" : \"It is the Sixth largest city in the world by city population.\",\n",
    "    } ,\n",
    "    \"New York\" : {\n",
    "        \"Country\" : \"United States of America\",\n",
    "        \"Population\" : \"8.623 Million\",\n",
    "        \"Fact\" : \"There is a birth in NYC every 4.4 minutes.\",\n",
    "    },\n",
    "    \"Sydney\" : {\n",
    "        \"Country\" : \"Australia\",\n",
    "        \"Population\" : \"5.23 Million\",\n",
    "        \"Fact\" : \"Opera Australia is the 3rd busiest opera company in the world.\",\n",
    "    }\n",
    "}\n",
    "\n",
    "print(\"Karachi:\\n\", cities[\"Karachi\"])\n",
    "print(\"\\nNew York:\\n\", cities[\"New York\"])\n",
    "print(\"\\nSydney:\\n\", cities[\"Sydney\"])"
   ]
  },
  {
   "cell_type": "code",
   "execution_count": 19,
   "metadata": {},
   "outputs": [
    {
     "name": "stdout",
     "output_type": "stream",
     "text": [
      "Enter \"exit\" to quit.\n",
      "\n",
      "Enter your age: 22\n",
      "Your ticket is $15.\n",
      "Enter your age: 2\n",
      "Your Ticket is Free.\n",
      "Enter your age: 3\n",
      "Your ticket is $10.\n",
      "Enter your age: exit\n",
      "\n",
      "Thank You!\n"
     ]
    }
   ],
   "source": [
    "\"\"\"\n",
    "Question3:\n",
    "A movie theater charges different ticket prices depending on a person’s age.\n",
    "If a person is under the age of 3, the ticket is free; if they are between 3 and 12,\n",
    "the ticket is $10; and if they are over age 12, the ticket is $15.\n",
    "Write a loop in which you ask users their age, and then tell them the cost of their movie ticket.\n",
    "\"\"\"\n",
    "print(\"Enter \\\"exit\\\" to quit.\\n\")\n",
    "\n",
    "while True:\n",
    "    age = input(\"Enter your age: \")\n",
    "    if age == \"exit\":\n",
    "        print(\"\\nThank You!\")\n",
    "        break\n",
    "    age = int(age)\n",
    "    if age < 3:\n",
    "        print(\"Your Ticket is Free.\")\n",
    "    elif age < 12:\n",
    "        print(\"Your ticket is $10.\")\n",
    "    else:\n",
    "        print(\"Your ticket is $15.\")"
   ]
  },
  {
   "cell_type": "code",
   "execution_count": 21,
   "metadata": {},
   "outputs": [
    {
     "name": "stdout",
     "output_type": "stream",
     "text": [
      "Enter Title of Your Favorite Book: Alice in Wonderland\n",
      "My Favorite Book is \"Alice In Wonderland\"\n"
     ]
    }
   ],
   "source": [
    "\"\"\"\n",
    "Question4:\n",
    "Write a function called favorite_book() that accepts one parameter, title.\n",
    "The function should print a message, such as One of my favorite books is Alice in Wonderland.\n",
    "Call the function, making sure to include a book title as an argument in the function call.\n",
    "\"\"\"\n",
    "def favorite_book(title):\n",
    "    print(\"My Favorite Book is \" + \"\\\"\" + title.title() + \"\\\"\")\n",
    "    \n",
    "msg = input(\"Enter Title of Your Favorite Book: \")\n",
    "favorite_book(msg)"
   ]
  },
  {
   "cell_type": "code",
   "execution_count": 29,
   "metadata": {},
   "outputs": [
    {
     "name": "stdout",
     "output_type": "stream",
     "text": [
      "Enter Your Guess: 15\n",
      "Your Guess is too Low\n",
      "Enter Your Guess: 25\n",
      "Your Guess is too Low\n",
      "Enter Your Guess: 28\n",
      "Your Guess is Too High\n",
      "\n",
      "Correct Answer is 26\n",
      "\n",
      "You Loss!\n"
     ]
    }
   ],
   "source": [
    "\"\"\"\n",
    "Question5:\n",
    "Guess the number game\n",
    "Write a program which randomly generate a number between 1 to 30 and\n",
    "ask the user in input field to guess the correct number.\n",
    "Give three chances to user guess the number and also give hint to user\n",
    "if hidden number is greater or smaller than the number he given to input field.\n",
    "\"\"\"\n",
    "from random import randint\n",
    "\n",
    "answer = randint(1, 30)\n",
    "chances = 3\n",
    "\n",
    "for x in range(chances):\n",
    "    guess = int(input(\"Enter Your Guess: \"))\n",
    "    if guess == answer:\n",
    "        print(\"You Won!\")\n",
    "        break\n",
    "    elif guess > answer:\n",
    "        print(\"Your Guess is Too High\")\n",
    "    elif guess < answer:\n",
    "        print(\"Your Guess is too Low\")\n",
    "    else:\n",
    "        print(\"Invalid Answer\")\n",
    "    chances -= 1\n",
    "\n",
    "if chances == 0:\n",
    "    print(\"\\nCorrect Answer is\", answer)\n",
    "    print(\"\\nYou Loss!\")"
   ]
  },
  {
   "cell_type": "code",
   "execution_count": null,
   "metadata": {},
   "outputs": [],
   "source": []
  }
 ],
 "metadata": {
  "kernelspec": {
   "display_name": "Python 3",
   "language": "python",
   "name": "python3"
  },
  "language_info": {
   "codemirror_mode": {
    "name": "ipython",
    "version": 3
   },
   "file_extension": ".py",
   "mimetype": "text/x-python",
   "name": "python",
   "nbconvert_exporter": "python",
   "pygments_lexer": "ipython3",
   "version": "3.7.4"
  }
 },
 "nbformat": 4,
 "nbformat_minor": 2
}
